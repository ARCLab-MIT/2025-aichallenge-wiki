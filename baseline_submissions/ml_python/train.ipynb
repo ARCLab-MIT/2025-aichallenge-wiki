{
 "cells": [
  {
   "cell_type": "markdown",
   "metadata": {},
   "source": [
    "# Machine Learning baseline"
   ]
  },
  {
   "cell_type": "code",
   "execution_count": 1,
   "metadata": {},
   "outputs": [],
   "source": [
    "import pandas as pd\n",
    "from pathlib import Path\n",
    "from sklearn.ensemble import RandomForestClassifier\n",
    "from sklearn.preprocessing import LabelEncoder\n",
    "from sklearn.model_selection import train_test_split\n",
    "from fastcore.basics import Path, AttrDict\n",
    "import utils\n",
    "import numpy as np\n",
    "import pickle\n",
    "\n",
    "# This is used to import the evaluation script, not needed for training\n",
    "import sys\n",
    "sys.path.append('../') \n",
    "import evaluation\n"
   ]
  },
  {
   "cell_type": "code",
   "execution_count": 2,
   "metadata": {},
   "outputs": [],
   "source": [
    "config = AttrDict(\n",
    "    challenge_data_dir = Path('~/data/splid_challenge_data').expanduser(),\n",
    "    valid_ratio = 0.1,\n",
    "    lag_steps = 5\n",
    ")"
   ]
  },
  {
   "cell_type": "code",
   "execution_count": 3,
   "metadata": {},
   "outputs": [],
   "source": [
    "# Define the list of feature columns\n",
    "feature_cols = ['Eccentricity', 'Semimajor axis (km)', 'Inclination (deg)', \n",
    "                'RAAN (deg)', 'Argument of periapsis (deg)', 'True anomaly (deg)', \n",
    "                'Latitude (deg)', 'Longitude (deg)', 'Altitude (km)', 'J2k X (km)', \n",
    "                'J2k Y (km)', 'J2k Z (km)', 'J2k Vx (km/s)', 'J2k Vy (km/s)', \n",
    "                'J2k Vz (km/s)']"
   ]
  },
  {
   "cell_type": "code",
   "execution_count": 4,
   "metadata": {},
   "outputs": [
    {
     "data": {
      "text/html": [
       "<div>\n",
       "<style scoped>\n",
       "    .dataframe tbody tr th:only-of-type {\n",
       "        vertical-align: middle;\n",
       "    }\n",
       "\n",
       "    .dataframe tbody tr th {\n",
       "        vertical-align: top;\n",
       "    }\n",
       "\n",
       "    .dataframe thead th {\n",
       "        text-align: right;\n",
       "    }\n",
       "</style>\n",
       "<table border=\"1\" class=\"dataframe\">\n",
       "  <thead>\n",
       "    <tr style=\"text-align: right;\">\n",
       "      <th></th>\n",
       "      <th>ObjectID</th>\n",
       "      <th>TimeIndex</th>\n",
       "      <th>EW</th>\n",
       "      <th>NS</th>\n",
       "    </tr>\n",
       "  </thead>\n",
       "  <tbody>\n",
       "    <tr>\n",
       "      <th>0</th>\n",
       "      <td>36830</td>\n",
       "      <td>0</td>\n",
       "      <td>SS-CK</td>\n",
       "      <td>SS-CK</td>\n",
       "    </tr>\n",
       "    <tr>\n",
       "      <th>1</th>\n",
       "      <td>36830</td>\n",
       "      <td>1</td>\n",
       "      <td>SS-CK</td>\n",
       "      <td>SS-CK</td>\n",
       "    </tr>\n",
       "    <tr>\n",
       "      <th>0</th>\n",
       "      <td>42432</td>\n",
       "      <td>0</td>\n",
       "      <td>SS-EK</td>\n",
       "      <td>SS-EK</td>\n",
       "    </tr>\n",
       "    <tr>\n",
       "      <th>1</th>\n",
       "      <td>42432</td>\n",
       "      <td>1</td>\n",
       "      <td>SS-EK</td>\n",
       "      <td>SS-EK</td>\n",
       "    </tr>\n",
       "    <tr>\n",
       "      <th>0</th>\n",
       "      <td>37834</td>\n",
       "      <td>0</td>\n",
       "      <td>SS-HK</td>\n",
       "      <td>SS-HK</td>\n",
       "    </tr>\n",
       "    <tr>\n",
       "      <th>1</th>\n",
       "      <td>37834</td>\n",
       "      <td>1</td>\n",
       "      <td>SS-HK</td>\n",
       "      <td>SS-HK</td>\n",
       "    </tr>\n",
       "    <tr>\n",
       "      <th>0</th>\n",
       "      <td>37775</td>\n",
       "      <td>0</td>\n",
       "      <td>SS-CK</td>\n",
       "      <td>SS-CK</td>\n",
       "    </tr>\n",
       "    <tr>\n",
       "      <th>1</th>\n",
       "      <td>37775</td>\n",
       "      <td>1</td>\n",
       "      <td>SS-CK</td>\n",
       "      <td>SS-CK</td>\n",
       "    </tr>\n",
       "    <tr>\n",
       "      <th>0</th>\n",
       "      <td>41586</td>\n",
       "      <td>0</td>\n",
       "      <td>SS-CK</td>\n",
       "      <td>SS-NK</td>\n",
       "    </tr>\n",
       "    <tr>\n",
       "      <th>1</th>\n",
       "      <td>41586</td>\n",
       "      <td>1</td>\n",
       "      <td>SS-CK</td>\n",
       "      <td>SS-NK</td>\n",
       "    </tr>\n",
       "  </tbody>\n",
       "</table>\n",
       "</div>"
      ],
      "text/plain": [
       "   ObjectID  TimeIndex     EW     NS\n",
       "0     36830          0  SS-CK  SS-CK\n",
       "1     36830          1  SS-CK  SS-CK\n",
       "0     42432          0  SS-EK  SS-EK\n",
       "1     42432          1  SS-EK  SS-EK\n",
       "0     37834          0  SS-HK  SS-HK\n",
       "1     37834          1  SS-HK  SS-HK\n",
       "0     37775          0  SS-CK  SS-CK\n",
       "1     37775          1  SS-CK  SS-CK\n",
       "0     41586          0  SS-CK  SS-NK\n",
       "1     41586          1  SS-CK  SS-NK"
      ]
     },
     "execution_count": 4,
     "metadata": {},
     "output_type": "execute_result"
    }
   ],
   "source": [
    "# Define the directory paths\n",
    "train_data_dir = config.challenge_data_dir / \"train_data\"\n",
    "\n",
    "# Load the ground truth data\n",
    "ground_truth = pd.read_csv(config.challenge_data_dir / 'ground_truth_train.csv')\n",
    "\n",
    "# Apply the function to the ground truth data\n",
    "data, updated_feature_cols = utils.tabularize_data(train_data_dir, feature_cols, \n",
    "                                          ground_truth, lag_steps=config.lag_steps)\n",
    "\n",
    "# For each ObjectID, show the first rows of the columns TimeIndex, ObjectID, EW, and NS\n",
    "data[['ObjectID', 'TimeIndex' , 'EW', 'NS']].groupby('ObjectID').head(2).head(10)"
   ]
  },
  {
   "cell_type": "code",
   "execution_count": 5,
   "metadata": {},
   "outputs": [
    {
     "name": "stdout",
     "output_type": "stream",
     "text": [
      "Number of objects in the training set: 44\n",
      "Number of objects in the validation set: 5\n"
     ]
    }
   ],
   "source": [
    "# Create a validation set without mixing the ObjectIDs\n",
    "object_ids = data['ObjectID'].unique()\n",
    "train_ids, valid_ids = train_test_split(object_ids, \n",
    "                                        test_size=config.valid_ratio, \n",
    "                                        random_state=42)\n",
    "\n",
    "train_data = data[data['ObjectID'].isin(train_ids)].copy()\n",
    "valid_data = data[data['ObjectID'].isin(valid_ids)].copy()\n",
    "\n",
    "ground_truth_train = ground_truth[ground_truth['ObjectID'].isin(train_ids)].copy()\n",
    "ground_truth_valid = ground_truth[ground_truth['ObjectID'].isin(valid_ids)].copy()\n",
    "\n",
    "# Count the number of objects in the training and validation sets\n",
    "print('Number of objects in the training set:', len(train_data['ObjectID'].unique()))\n",
    "print('Number of objects in the validation set:', len(valid_data['ObjectID'].unique()))"
   ]
  },
  {
   "cell_type": "markdown",
   "metadata": {},
   "source": [
    "Next we will make sure that there every label, both in the direction EW and NS,\n",
    "is present both in the training and validation partitions"
   ]
  },
  {
   "cell_type": "code",
   "execution_count": 6,
   "metadata": {},
   "outputs": [
    {
     "name": "stdout",
     "output_type": "stream",
     "text": [
      "Missing values of EW in test data: set()\n",
      "Missing values of NS in test data: set()\n",
      "Values of EW not present in NS: {'AD-NK'}\n"
     ]
    }
   ],
   "source": [
    "# Get the unique values of EW and NS in train and test data\n",
    "train_EW = set(train_data['EW'].unique())\n",
    "train_NS = set(train_data['NS'].unique())\n",
    "valid_EW = set(train_data['EW'].unique())\n",
    "valid_NS = set(valid_data['NS'].unique())\n",
    "\n",
    "# Get the values of EW and NS that are in test data but not in train data\n",
    "missing_EW = valid_EW.difference(train_EW)\n",
    "missing_NS = valid_NS.difference(train_NS)\n",
    "\n",
    "# Check if all the values in EW are also present in NS\n",
    "if not set(train_data['EW'].unique()).issubset(set(train_data['NS'].unique())):\n",
    "    # Get the values of EW that are not present in NS\n",
    "    missing_EW_NS = set(train_data['EW'].unique()).difference(\n",
    "        set(train_data['NS'].unique())\n",
    "    )\n",
    "else:\n",
    "    missing_EW_NS = None\n",
    "\n",
    "# Print the missing values of EW and NS\n",
    "print(\"Missing values of EW in test data:\", missing_EW)\n",
    "print(\"Missing values of NS in test data:\", missing_NS)\n",
    "print(\"Values of EW not present in NS:\", missing_EW_NS)\n"
   ]
  },
  {
   "cell_type": "code",
   "execution_count": 7,
   "metadata": {},
   "outputs": [
    {
     "data": {
      "text/html": [
       "<style>#sk-container-id-1 {color: black;}#sk-container-id-1 pre{padding: 0;}#sk-container-id-1 div.sk-toggleable {background-color: white;}#sk-container-id-1 label.sk-toggleable__label {cursor: pointer;display: block;width: 100%;margin-bottom: 0;padding: 0.3em;box-sizing: border-box;text-align: center;}#sk-container-id-1 label.sk-toggleable__label-arrow:before {content: \"▸\";float: left;margin-right: 0.25em;color: #696969;}#sk-container-id-1 label.sk-toggleable__label-arrow:hover:before {color: black;}#sk-container-id-1 div.sk-estimator:hover label.sk-toggleable__label-arrow:before {color: black;}#sk-container-id-1 div.sk-toggleable__content {max-height: 0;max-width: 0;overflow: hidden;text-align: left;background-color: #f0f8ff;}#sk-container-id-1 div.sk-toggleable__content pre {margin: 0.2em;color: black;border-radius: 0.25em;background-color: #f0f8ff;}#sk-container-id-1 input.sk-toggleable__control:checked~div.sk-toggleable__content {max-height: 200px;max-width: 100%;overflow: auto;}#sk-container-id-1 input.sk-toggleable__control:checked~label.sk-toggleable__label-arrow:before {content: \"▾\";}#sk-container-id-1 div.sk-estimator input.sk-toggleable__control:checked~label.sk-toggleable__label {background-color: #d4ebff;}#sk-container-id-1 div.sk-label input.sk-toggleable__control:checked~label.sk-toggleable__label {background-color: #d4ebff;}#sk-container-id-1 input.sk-hidden--visually {border: 0;clip: rect(1px 1px 1px 1px);clip: rect(1px, 1px, 1px, 1px);height: 1px;margin: -1px;overflow: hidden;padding: 0;position: absolute;width: 1px;}#sk-container-id-1 div.sk-estimator {font-family: monospace;background-color: #f0f8ff;border: 1px dotted black;border-radius: 0.25em;box-sizing: border-box;margin-bottom: 0.5em;}#sk-container-id-1 div.sk-estimator:hover {background-color: #d4ebff;}#sk-container-id-1 div.sk-parallel-item::after {content: \"\";width: 100%;border-bottom: 1px solid gray;flex-grow: 1;}#sk-container-id-1 div.sk-label:hover label.sk-toggleable__label {background-color: #d4ebff;}#sk-container-id-1 div.sk-serial::before {content: \"\";position: absolute;border-left: 1px solid gray;box-sizing: border-box;top: 0;bottom: 0;left: 50%;z-index: 0;}#sk-container-id-1 div.sk-serial {display: flex;flex-direction: column;align-items: center;background-color: white;padding-right: 0.2em;padding-left: 0.2em;position: relative;}#sk-container-id-1 div.sk-item {position: relative;z-index: 1;}#sk-container-id-1 div.sk-parallel {display: flex;align-items: stretch;justify-content: center;background-color: white;position: relative;}#sk-container-id-1 div.sk-item::before, #sk-container-id-1 div.sk-parallel-item::before {content: \"\";position: absolute;border-left: 1px solid gray;box-sizing: border-box;top: 0;bottom: 0;left: 50%;z-index: -1;}#sk-container-id-1 div.sk-parallel-item {display: flex;flex-direction: column;z-index: 1;position: relative;background-color: white;}#sk-container-id-1 div.sk-parallel-item:first-child::after {align-self: flex-end;width: 50%;}#sk-container-id-1 div.sk-parallel-item:last-child::after {align-self: flex-start;width: 50%;}#sk-container-id-1 div.sk-parallel-item:only-child::after {width: 0;}#sk-container-id-1 div.sk-dashed-wrapped {border: 1px dashed gray;margin: 0 0.4em 0.5em 0.4em;box-sizing: border-box;padding-bottom: 0.4em;background-color: white;}#sk-container-id-1 div.sk-label label {font-family: monospace;font-weight: bold;display: inline-block;line-height: 1.2em;}#sk-container-id-1 div.sk-label-container {text-align: center;}#sk-container-id-1 div.sk-container {/* jupyter's `normalize.less` sets `[hidden] { display: none; }` but bootstrap.min.css set `[hidden] { display: none !important; }` so we also need the `!important` here to be able to override the default hidden behavior on the sphinx rendered scikit-learn.org. See: https://github.com/scikit-learn/scikit-learn/issues/21755 */display: inline-block !important;position: relative;}#sk-container-id-1 div.sk-text-repr-fallback {display: none;}</style><div id=\"sk-container-id-1\" class=\"sk-top-container\"><div class=\"sk-text-repr-fallback\"><pre>RandomForestClassifier(random_state=42)</pre><b>In a Jupyter environment, please rerun this cell to show the HTML representation or trust the notebook. <br />On GitHub, the HTML representation is unable to render, please try loading this page with nbviewer.org.</b></div><div class=\"sk-container\" hidden><div class=\"sk-item\"><div class=\"sk-estimator sk-toggleable\"><input class=\"sk-toggleable__control sk-hidden--visually\" id=\"sk-estimator-id-1\" type=\"checkbox\" checked><label for=\"sk-estimator-id-1\" class=\"sk-toggleable__label sk-toggleable__label-arrow\">RandomForestClassifier</label><div class=\"sk-toggleable__content\"><pre>RandomForestClassifier(random_state=42)</pre></div></div></div></div></div>"
      ],
      "text/plain": [
       "RandomForestClassifier(random_state=42)"
      ]
     },
     "execution_count": 7,
     "metadata": {},
     "output_type": "execute_result"
    }
   ],
   "source": [
    "# Convert categorical data to numerical data\n",
    "le_EW = LabelEncoder()\n",
    "le_NS = LabelEncoder()\n",
    "\n",
    "# Encode the 'EW' and 'NS' columns\n",
    "train_data['EW_encoded'] = le_EW.fit_transform(train_data['EW'])\n",
    "train_data['NS_encoded'] = le_NS.fit_transform(train_data['NS'])\n",
    "\n",
    "# Define the Random Forest model for EW\n",
    "model_EW = RandomForestClassifier(n_estimators=100, random_state=42)\n",
    "# Fit the model to the training data for EW\n",
    "model_EW.fit(train_data[updated_feature_cols], train_data['EW_encoded'])\n",
    "\n",
    "# Define the Random Forest model for NS\n",
    "model_NS = RandomForestClassifier(n_estimators=100, random_state=42)\n",
    "# Fit the model to the training data for NS\n",
    "model_NS.fit(train_data[updated_feature_cols], train_data['NS_encoded'])"
   ]
  },
  {
   "cell_type": "code",
   "execution_count": 8,
   "metadata": {},
   "outputs": [
    {
     "data": {
      "text/html": [
       "<div>\n",
       "<style scoped>\n",
       "    .dataframe tbody tr th:only-of-type {\n",
       "        vertical-align: middle;\n",
       "    }\n",
       "\n",
       "    .dataframe tbody tr th {\n",
       "        vertical-align: top;\n",
       "    }\n",
       "\n",
       "    .dataframe thead th {\n",
       "        text-align: right;\n",
       "    }\n",
       "</style>\n",
       "<table border=\"1\" class=\"dataframe\">\n",
       "  <thead>\n",
       "    <tr style=\"text-align: right;\">\n",
       "      <th></th>\n",
       "      <th>TimeIndex</th>\n",
       "      <th>ObjectID</th>\n",
       "      <th>EW</th>\n",
       "      <th>Predicted_EW</th>\n",
       "      <th>NS</th>\n",
       "      <th>Predicted_NS</th>\n",
       "    </tr>\n",
       "  </thead>\n",
       "  <tbody>\n",
       "    <tr>\n",
       "      <th>0</th>\n",
       "      <td>0</td>\n",
       "      <td>36830</td>\n",
       "      <td>SS-CK</td>\n",
       "      <td>SS-CK</td>\n",
       "      <td>SS-CK</td>\n",
       "      <td>SS-CK</td>\n",
       "    </tr>\n",
       "    <tr>\n",
       "      <th>1</th>\n",
       "      <td>1</td>\n",
       "      <td>36830</td>\n",
       "      <td>SS-CK</td>\n",
       "      <td>SS-CK</td>\n",
       "      <td>SS-CK</td>\n",
       "      <td>SS-CK</td>\n",
       "    </tr>\n",
       "    <tr>\n",
       "      <th>2</th>\n",
       "      <td>2</td>\n",
       "      <td>36830</td>\n",
       "      <td>SS-CK</td>\n",
       "      <td>SS-CK</td>\n",
       "      <td>SS-CK</td>\n",
       "      <td>SS-CK</td>\n",
       "    </tr>\n",
       "    <tr>\n",
       "      <th>0</th>\n",
       "      <td>0</td>\n",
       "      <td>42432</td>\n",
       "      <td>SS-EK</td>\n",
       "      <td>SS-EK</td>\n",
       "      <td>SS-EK</td>\n",
       "      <td>SS-EK</td>\n",
       "    </tr>\n",
       "    <tr>\n",
       "      <th>1</th>\n",
       "      <td>1</td>\n",
       "      <td>42432</td>\n",
       "      <td>SS-EK</td>\n",
       "      <td>SS-EK</td>\n",
       "      <td>SS-EK</td>\n",
       "      <td>SS-EK</td>\n",
       "    </tr>\n",
       "    <tr>\n",
       "      <th>...</th>\n",
       "      <td>...</td>\n",
       "      <td>...</td>\n",
       "      <td>...</td>\n",
       "      <td>...</td>\n",
       "      <td>...</td>\n",
       "      <td>...</td>\n",
       "    </tr>\n",
       "    <tr>\n",
       "      <th>1</th>\n",
       "      <td>1</td>\n",
       "      <td>38107</td>\n",
       "      <td>SS-CK</td>\n",
       "      <td>SS-CK</td>\n",
       "      <td>SS-CK</td>\n",
       "      <td>SS-CK</td>\n",
       "    </tr>\n",
       "    <tr>\n",
       "      <th>2</th>\n",
       "      <td>2</td>\n",
       "      <td>38107</td>\n",
       "      <td>SS-CK</td>\n",
       "      <td>SS-CK</td>\n",
       "      <td>SS-CK</td>\n",
       "      <td>SS-CK</td>\n",
       "    </tr>\n",
       "    <tr>\n",
       "      <th>0</th>\n",
       "      <td>0</td>\n",
       "      <td>53813</td>\n",
       "      <td>SS-NK</td>\n",
       "      <td>SS-NK</td>\n",
       "      <td>SS-NK</td>\n",
       "      <td>SS-NK</td>\n",
       "    </tr>\n",
       "    <tr>\n",
       "      <th>1</th>\n",
       "      <td>1</td>\n",
       "      <td>53813</td>\n",
       "      <td>SS-NK</td>\n",
       "      <td>SS-NK</td>\n",
       "      <td>SS-NK</td>\n",
       "      <td>SS-NK</td>\n",
       "    </tr>\n",
       "    <tr>\n",
       "      <th>2</th>\n",
       "      <td>2</td>\n",
       "      <td>53813</td>\n",
       "      <td>SS-NK</td>\n",
       "      <td>SS-NK</td>\n",
       "      <td>SS-NK</td>\n",
       "      <td>SS-NK</td>\n",
       "    </tr>\n",
       "  </tbody>\n",
       "</table>\n",
       "<p>132 rows × 6 columns</p>\n",
       "</div>"
      ],
      "text/plain": [
       "    TimeIndex  ObjectID     EW Predicted_EW     NS Predicted_NS\n",
       "0           0     36830  SS-CK        SS-CK  SS-CK        SS-CK\n",
       "1           1     36830  SS-CK        SS-CK  SS-CK        SS-CK\n",
       "2           2     36830  SS-CK        SS-CK  SS-CK        SS-CK\n",
       "0           0     42432  SS-EK        SS-EK  SS-EK        SS-EK\n",
       "1           1     42432  SS-EK        SS-EK  SS-EK        SS-EK\n",
       "..        ...       ...    ...          ...    ...          ...\n",
       "1           1     38107  SS-CK        SS-CK  SS-CK        SS-CK\n",
       "2           2     38107  SS-CK        SS-CK  SS-CK        SS-CK\n",
       "0           0     53813  SS-NK        SS-NK  SS-NK        SS-NK\n",
       "1           1     53813  SS-NK        SS-NK  SS-NK        SS-NK\n",
       "2           2     53813  SS-NK        SS-NK  SS-NK        SS-NK\n",
       "\n",
       "[132 rows x 6 columns]"
      ]
     },
     "execution_count": 8,
     "metadata": {},
     "output_type": "execute_result"
    }
   ],
   "source": [
    "# Make predictions on the training data for EW\n",
    "train_data['Predicted_EW'] = le_EW.inverse_transform(\n",
    "    model_EW.predict(train_data[updated_feature_cols])\n",
    ")\n",
    "\n",
    "# Make predictions on the validation data for NS\n",
    "train_data['Predicted_NS'] = le_NS.inverse_transform(\n",
    "    model_NS.predict(train_data[updated_feature_cols])\n",
    ")\n",
    "\n",
    "# Print the first few rows of the test data with predictions for both EW and NS\n",
    "train_data[['TimeIndex', 'ObjectID', 'EW', \n",
    "            'Predicted_EW', 'NS', 'Predicted_NS']].groupby('ObjectID').head(3)"
   ]
  },
  {
   "cell_type": "code",
   "execution_count": 9,
   "metadata": {},
   "outputs": [],
   "source": [
    "if config.valid_ratio > 0:\n",
    "    # Make predictions on the validation data for EW\n",
    "    valid_data['Predicted_EW'] = le_EW.inverse_transform(\n",
    "        model_EW.predict(valid_data[updated_feature_cols])\n",
    "    )\n",
    "\n",
    "    # Make predictions on the validation data for NS\n",
    "    valid_data['Predicted_NS'] = le_NS.inverse_transform(\n",
    "        model_NS.predict(valid_data[updated_feature_cols])\n",
    "    )"
   ]
  },
  {
   "cell_type": "markdown",
   "metadata": {},
   "source": [
    "The `NodeDetectionEvaluator` class in the evaluation module allows not only to\n",
    "compute the general score for a given dataset, but get evaluations per object, and\n",
    "even plots that show how the predictions look like in a timeline"
   ]
  },
  {
   "cell_type": "code",
   "execution_count": 10,
   "metadata": {},
   "outputs": [
    {
     "name": "stdout",
     "output_type": "stream",
     "text": [
      "Precision for the train set: 0.99\n",
      "Recall for the train set: 0.68\n",
      "F2 for the train set: 0.73\n",
      "RMSE for the train set: 0.09\n"
     ]
    }
   ],
   "source": [
    "train_results = utils.convert_classifier_output(train_data)\n",
    "evaluator = evaluation.NodeDetectionEvaluator(ground_truth_train, train_results)\n",
    "precision, recall, f2, rmse = evaluator.score()\n",
    "print(f'Precision for the train set: {precision:.2f}')\n",
    "print(f'Recall for the train set: {recall:.2f}')\n",
    "print(f'F2 for the train set: {f2:.2f}')\n",
    "print(f'RMSE for the train set: {rmse:.2f}')\n"
   ]
  },
  {
   "cell_type": "code",
   "execution_count": 11,
   "metadata": {},
   "outputs": [
    {
     "data": {
      "image/png": "[encoded data removed]",
      "text/plain": [
       "<Figure size 1000x600 with 2 Axes>"
      ]
     },
     "metadata": {},
     "output_type": "display_data"
    }
   ],
   "source": [
    "# Plot the evaluation timeline for a random ObjectID from the training set\n",
    "evaluator.plot(np.random.choice(train_data['ObjectID'].unique()))"
   ]
  },
  {
   "cell_type": "code",
   "execution_count": 12,
   "metadata": {},
   "outputs": [
    {
     "data": {
      "text/plain": [
       "<module 'evaluation' from '/home/victor/Github/splid-devkit/baseline_submissions/ml_python/../evaluation.py'>"
      ]
     },
     "execution_count": 12,
     "metadata": {},
     "output_type": "execute_result"
    }
   ],
   "source": [
    "import importlib\n",
    "import utils\n",
    "import evaluation\n",
    "\n",
    "# ... some code that modifies my_module ...\n",
    "\n",
    "importlib.reload(utils)\n",
    "importlib.reload(evaluation)"
   ]
  },
  {
   "cell_type": "code",
   "execution_count": 13,
   "metadata": {},
   "outputs": [
    {
     "name": "stdout",
     "output_type": "stream",
     "text": [
      "Total true positives: 126\n",
      "Total false positives: 2\n",
      "Total false negatives: 58\n"
     ]
    }
   ],
   "source": [
    "# Loop over the Object IDs in the training set and call the evaluation\n",
    "# function for each object and aggregate the results\n",
    "total_tp = 0\n",
    "total_fp = 0\n",
    "total_fn = 0\n",
    "for oid in train_data['ObjectID'].unique():\n",
    "    tp, fp, fn, gt_object, p_object = evaluator.evaluate(oid)\n",
    "    total_tp += tp\n",
    "    total_fp += fp\n",
    "    total_fn += fn\n",
    "\n",
    "print(f'Total true positives: {total_tp}')\n",
    "print(f'Total false positives: {total_fp}')\n",
    "print(f'Total false negatives: {total_fn}')"
   ]
  },
  {
   "cell_type": "code",
   "execution_count": 14,
   "metadata": {},
   "outputs": [
    {
     "name": "stdout",
     "output_type": "stream",
     "text": [
      "Precision for the validation set: 0.01\n",
      "Recall for the validation set: 0.42\n",
      "F2 for the validation set: 0.04\n",
      "RMSE for the validation set: 0.00\n"
     ]
    }
   ],
   "source": [
    "if config.valid_ratio > 0:\n",
    "    valid_results = utils.convert_classifier_output(valid_data)\n",
    "    evaluator = evaluation.NodeDetectionEvaluator(ground_truth_valid, valid_results)\n",
    "precision, recall, f2, rmse = evaluator.score()\n",
    "print(f'Precision for the validation set: {precision:.2f}')\n",
    "print(f'Recall for the validation set: {recall:.2f}')\n",
    "print(f'F2 for the validation set: {f2:.2f}')\n",
    "print(f'RMSE for the validation set: {rmse:.2f}')"
   ]
  },
  {
   "cell_type": "code",
   "execution_count": 15,
   "metadata": {},
   "outputs": [
    {
     "data": {
      "image/png": "[encoded data removed]",
      "text/plain": [
       "<Figure size 1000x600 with 2 Axes>"
      ]
     },
     "metadata": {},
     "output_type": "display_data"
    }
   ],
   "source": [
    "# Plot the evaluation timeline for a random ObjectID from the training set\n",
    "evaluator.plot(np.random.choice(valid_data['ObjectID'].unique()))"
   ]
  },
  {
   "cell_type": "code",
   "execution_count": 17,
   "metadata": {},
   "outputs": [],
   "source": [
    "# Save the trained random forest models (and label encoders) to disk\n",
    "# Create the folder trained_model if it doesn't exist\n",
    "Path('trained_model').mkdir(exist_ok=True)\n",
    "pickle.dump(model_EW, open('trained_model/model_EW.pkl', 'wb'))\n",
    "pickle.dump(model_NS, open('trained_model/model_NS.pkl', 'wb'))\n",
    "pickle.dump(le_EW, open('trained_model/le_EW.pkl', 'wb'))\n",
    "pickle.dump(le_NS, open('trained_model/le_NS.pkl', 'wb'))"
   ]
  }
 ],
 "metadata": {
  "kernelspec": {
   "display_name": "Python 3",
   "language": "python",
   "name": "python3"
  },
  "language_info": {
   "codemirror_mode": {
    "name": "ipython",
    "version": 3
   },
   "file_extension": ".py",
   "mimetype": "text/x-python",
   "name": "python",
   "nbconvert_exporter": "python",
   "pygments_lexer": "ipython3",
   "version": "3.10.12"
  },
  "orig_nbformat": 4
 },
 "nbformat": 4,
 "nbformat_minor": 2
}
